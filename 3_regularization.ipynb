{
 "cells": [
  {
   "cell_type": "markdown",
   "metadata": {
    "colab_type": "text",
    "id": "kR-4eNdK6lYS"
   },
   "source": [
    "Deep Learning\n",
    "=============\n",
    "\n",
    "Assignment 3\n",
    "------------\n",
    "\n",
    "Previously in `2_fullyconnected.ipynb`, you trained a logistic regression and a neural network model.\n",
    "\n",
    "The goal of this assignment is to explore regularization techniques."
   ]
  },
  {
   "cell_type": "code",
   "execution_count": 1,
   "metadata": {
    "cellView": "both",
    "colab": {
     "autoexec": {
      "startup": false,
      "wait_interval": 0
     }
    },
    "colab_type": "code",
    "collapsed": true,
    "id": "JLpLa8Jt7Vu4"
   },
   "outputs": [],
   "source": [
    "# These are all the modules we'll be using later. Make sure you can import them\n",
    "# before proceeding further.\n",
    "from __future__ import print_function\n",
    "import numpy as np\n",
    "import tensorflow as tf\n",
    "from six.moves import cPickle as pickle"
   ]
  },
  {
   "cell_type": "markdown",
   "metadata": {
    "colab_type": "text",
    "id": "1HrCK6e17WzV"
   },
   "source": [
    "First reload the data we generated in `1_notmnist.ipynb`."
   ]
  },
  {
   "cell_type": "code",
   "execution_count": 2,
   "metadata": {
    "cellView": "both",
    "colab": {
     "autoexec": {
      "startup": false,
      "wait_interval": 0
     },
     "output_extras": [
      {
       "item_id": 1
      }
     ]
    },
    "colab_type": "code",
    "collapsed": false,
    "executionInfo": {
     "elapsed": 11777,
     "status": "ok",
     "timestamp": 1449849322348,
     "user": {
      "color": "",
      "displayName": "",
      "isAnonymous": false,
      "isMe": true,
      "permissionId": "",
      "photoUrl": "",
      "sessionId": "0",
      "userId": ""
     },
     "user_tz": 480
    },
    "id": "y3-cj1bpmuxc",
    "outputId": "e03576f1-ebbe-4838-c388-f1777bcc9873"
   },
   "outputs": [
    {
     "name": "stdout",
     "output_type": "stream",
     "text": [
      "Training set (200000, 28, 28) (200000,)\n",
      "Validation set (10000, 28, 28) (10000,)\n",
      "Test set (10000, 28, 28) (10000,)\n"
     ]
    }
   ],
   "source": [
    "pickle_file = 'notMNIST.pickle'\n",
    "\n",
    "with open(pickle_file, 'rb') as f:\n",
    "  save = pickle.load(f)\n",
    "  train_dataset = save['train_dataset']\n",
    "  train_labels = save['train_labels']\n",
    "  valid_dataset = save['valid_dataset']\n",
    "  valid_labels = save['valid_labels']\n",
    "  test_dataset = save['test_dataset']\n",
    "  test_labels = save['test_labels']\n",
    "  del save  # hint to help gc free up memory\n",
    "  print('Training set', train_dataset.shape, train_labels.shape)\n",
    "  print('Validation set', valid_dataset.shape, valid_labels.shape)\n",
    "  print('Test set', test_dataset.shape, test_labels.shape)"
   ]
  },
  {
   "cell_type": "markdown",
   "metadata": {
    "colab_type": "text",
    "id": "L7aHrm6nGDMB"
   },
   "source": [
    "Reformat into a shape that's more adapted to the models we're going to train:\n",
    "- data as a flat matrix,\n",
    "- labels as float 1-hot encodings."
   ]
  },
  {
   "cell_type": "code",
   "execution_count": 3,
   "metadata": {
    "cellView": "both",
    "colab": {
     "autoexec": {
      "startup": false,
      "wait_interval": 0
     },
     "output_extras": [
      {
       "item_id": 1
      }
     ]
    },
    "colab_type": "code",
    "collapsed": false,
    "executionInfo": {
     "elapsed": 11728,
     "status": "ok",
     "timestamp": 1449849322356,
     "user": {
      "color": "",
      "displayName": "",
      "isAnonymous": false,
      "isMe": true,
      "permissionId": "",
      "photoUrl": "",
      "sessionId": "0",
      "userId": ""
     },
     "user_tz": 480
    },
    "id": "IRSyYiIIGIzS",
    "outputId": "3f8996ee-3574-4f44-c953-5c8a04636582"
   },
   "outputs": [
    {
     "name": "stdout",
     "output_type": "stream",
     "text": [
      "Training set (200000, 784) (200000, 10)\n",
      "Validation set (10000, 784) (10000, 10)\n",
      "Test set (10000, 784) (10000, 10)\n"
     ]
    }
   ],
   "source": [
    "image_size = 28\n",
    "num_labels = 10\n",
    "\n",
    "def reformat(dataset, labels):\n",
    "  dataset = dataset.reshape((-1, image_size * image_size)).astype(np.float32)\n",
    "  # Map 1 to [0.0, 1.0, 0.0 ...], 2 to [0.0, 0.0, 1.0 ...]\n",
    "  labels = (np.arange(num_labels) == labels[:,None]).astype(np.float32)\n",
    "  return dataset, labels\n",
    "train_dataset, train_labels = reformat(train_dataset, train_labels)\n",
    "valid_dataset, valid_labels = reformat(valid_dataset, valid_labels)\n",
    "test_dataset, test_labels = reformat(test_dataset, test_labels)\n",
    "print('Training set', train_dataset.shape, train_labels.shape)\n",
    "print('Validation set', valid_dataset.shape, valid_labels.shape)\n",
    "print('Test set', test_dataset.shape, test_labels.shape)"
   ]
  },
  {
   "cell_type": "code",
   "execution_count": 4,
   "metadata": {
    "cellView": "both",
    "colab": {
     "autoexec": {
      "startup": false,
      "wait_interval": 0
     }
    },
    "colab_type": "code",
    "collapsed": true,
    "id": "RajPLaL_ZW6w"
   },
   "outputs": [],
   "source": [
    "def accuracy(predictions, labels):\n",
    "  return (100.0 * np.sum(np.argmax(predictions, 1) == np.argmax(labels, 1))\n",
    "          / predictions.shape[0])"
   ]
  },
  {
   "cell_type": "markdown",
   "metadata": {
    "colab_type": "text",
    "id": "sgLbUAQ1CW-1"
   },
   "source": [
    "---\n",
    "Problem 1\n",
    "---------\n",
    "\n",
    "Introduce and tune L2 regularization for both logistic and neural network models. Remember that L2 amounts to adding a penalty on the norm of the weights to the loss. In TensorFlow, you can compute the L2 loss for a tensor `t` using `nn.l2_loss(t)`. The right amount of regularization should improve your validation / test accuracy.\n",
    "\n",
    "---"
   ]
  },
  {
   "cell_type": "code",
   "execution_count": 36,
   "metadata": {
    "collapsed": false
   },
   "outputs": [
    {
     "name": "stdout",
     "output_type": "stream",
     "text": [
      "\n",
      "\n",
      "Running logistic regression\n",
      "Minibatch loss at step 0: 16.308277\n",
      "Minibatch accuracy: 12.5%\n",
      "Validation accuracy: 17.8%\n",
      "Minibatch loss at step 500: 3.426898\n",
      "Minibatch accuracy: 69.5%\n",
      "Validation accuracy: 76.2%\n",
      "Minibatch loss at step 1000: 1.734720\n",
      "Minibatch accuracy: 76.6%\n",
      "Validation accuracy: 78.2%\n",
      "Minibatch loss at step 1500: 1.298187\n",
      "Minibatch accuracy: 75.8%\n",
      "Validation accuracy: 80.0%\n",
      "Minibatch loss at step 2000: 1.024662\n",
      "Minibatch accuracy: 84.4%\n",
      "Validation accuracy: 80.0%\n",
      "Minibatch loss at step 2500: 1.027295\n",
      "Minibatch accuracy: 75.8%\n",
      "Validation accuracy: 81.2%\n",
      "Minibatch loss at step 3000: 0.748582\n",
      "Minibatch accuracy: 78.1%\n",
      "Validation accuracy: 82.0%\n",
      "Test accuracy: 89.0%\n",
      "\n",
      "\n",
      "Running nn model\n",
      "Minibatch loss at step 0: 30.514893\n",
      "Minibatch accuracy: 7.8%\n",
      "Validation accuracy: 20.7%\n",
      "Minibatch loss at step 500: 2.827505\n",
      "Minibatch accuracy: 68.8%\n",
      "Validation accuracy: 75.4%\n",
      "Minibatch loss at step 1000: 1.671303\n",
      "Minibatch accuracy: 82.0%\n",
      "Validation accuracy: 78.7%\n",
      "Minibatch loss at step 1500: 1.439604\n",
      "Minibatch accuracy: 78.1%\n",
      "Validation accuracy: 80.2%\n",
      "Minibatch loss at step 2000: 1.045888\n",
      "Minibatch accuracy: 81.2%\n",
      "Validation accuracy: 80.7%\n",
      "Minibatch loss at step 2500: 1.007704\n",
      "Minibatch accuracy: 78.1%\n",
      "Validation accuracy: 81.7%\n",
      "Minibatch loss at step 3000: 0.640232\n",
      "Minibatch accuracy: 85.9%\n",
      "Validation accuracy: 82.2%\n",
      "Test accuracy: 89.7%\n"
     ]
    }
   ],
   "source": [
    "TRAIN_BATCH_SIZE = 128\n",
    "NUM_OF_STEPS = 3001\n",
    "BETA = 0.001\n",
    "\n",
    "def create_graph(\n",
    "        tf_train_dataset,\n",
    "        tf_train_labels,\n",
    "        tf_valid_dataset,\n",
    "        tf_test_dataset,\n",
    "        train_model_func,\n",
    "        prepare_model_params_func,\n",
    "    ):\n",
    "    \"\"\"\n",
    "    Create graph using specified function to train model (for example logistic regression).\n",
    "    Return tf specifications for train prediction, validation prediction and test prediction.\n",
    "    Graph should be initialized before calling this function\n",
    "    \"\"\"\n",
    "    number_of_labels = tf_train_labels.shape[1].value\n",
    "\n",
    "    model_params = prepare_model_params_func(\n",
    "        tf_train_dataset.shape[1].value,\n",
    "        number_of_labels)\n",
    "    model = train_model_func(\n",
    "        tf_train_dataset, *model_params)\n",
    "\n",
    "    weights = model_params[0]\n",
    "    \n",
    "    loss = tf.reduce_mean(\n",
    "       tf.nn.softmax_cross_entropy_with_logits(labels=tf_train_labels, logits=model) + \\\n",
    "       BETA * tf.nn.l2_loss(weights))\n",
    "  \n",
    "    optimizer = tf.train.GradientDescentOptimizer(0.5).minimize(loss)\n",
    "  \n",
    "    train_prediction = tf.nn.softmax(model)\n",
    "    valid_prediction = tf.nn.softmax(\n",
    "        train_model_func(tf_valid_dataset, *model_params))\n",
    "    test_prediction = tf.nn.softmax(\n",
    "        train_model_func(tf_test_dataset, *model_params))\n",
    "    return (\n",
    "        optimizer,\n",
    "        loss,\n",
    "        train_prediction,\n",
    "        valid_prediction,\n",
    "        test_prediction)\n",
    "\n",
    "def prepare_params_for_logistic_model(\n",
    "        num_features, num_labels):\n",
    "    \"\"\"\n",
    "    Prepare parameters for logistic model\n",
    "    \"\"\"\n",
    "    weights = tf.Variable(\n",
    "        tf.truncated_normal([num_features, num_labels]))\n",
    "    biases = tf.Variable(tf.zeros([num_labels]))\n",
    "    return weights, biases\n",
    "    \n",
    "def train_logistic_model(dataset, weights, biases):\n",
    "    \"\"\"\n",
    "    Create tf representation for logistic model\n",
    "    \"\"\"\n",
    "    return tf.matmul(dataset, weights) + biases\n",
    "\n",
    "\n",
    "def prepare_params_for_nn_model(\n",
    "        num_features, num_labels):\n",
    "    \"\"\"\n",
    "    Prepare paraneters for nn model\n",
    "    \"\"\"\n",
    "    weights_before_relu = tf.Variable(\n",
    "        tf.truncated_normal([num_features, num_labels]))\n",
    "    biases_before_relu = tf.Variable(tf.zeros([num_labels]))\n",
    "    \n",
    "    weights_after_relu = tf.Variable(\n",
    "        tf.truncated_normal([num_labels, num_labels]))\n",
    "    biases_after_relu = tf.Variable(tf.zeros([num_labels]))\n",
    "    return (\n",
    "        weights_before_relu, biases_before_relu,\n",
    "        weights_after_relu, biases_after_relu,\n",
    "    )\n",
    "\n",
    "def train_nn_model(\n",
    "        dataset, \n",
    "        weights_before_relu, biases_before_relu,\n",
    "        weights_after_relu, biases_after_relu\n",
    "    ):\n",
    "    \"\"\"\n",
    "    Create tf representation for nn model\n",
    "    \"\"\"\n",
    "    return tf.matmul(\n",
    "            tf.nn.relu(\n",
    "                tf.matmul(dataset, weights_before_relu) + biases_before_relu),\n",
    "            weights_after_relu\n",
    "            ) + biases_after_relu\n",
    "\n",
    "\n",
    "def execute_session(\n",
    "        session,\n",
    "    \n",
    "        num_steps,\n",
    "        batch_size,\n",
    "    \n",
    "        optimizer,\n",
    "        loss,\n",
    "        train_prediction,\n",
    "        valid_prediction,\n",
    "        test_prediction,\n",
    "    \n",
    "        train_labels,\n",
    "        valid_labels,\n",
    "        test_labels,\n",
    "    \n",
    "        tf_train_dataset,\n",
    "        tf_train_labels,\n",
    "    ):\n",
    "    \"\"\"\n",
    "    Execute session and print prediction result\n",
    "    \"\"\"\n",
    "    def _run_step(step):\n",
    "        offset = (step * batch_size) % (train_labels.shape[0] - batch_size)\n",
    "        # Generate a minibatch.\n",
    "        batch_data = train_dataset[offset:(offset + batch_size), :]\n",
    "        batch_labels = train_labels[offset:(offset + batch_size), :]\n",
    "        \n",
    "        feed_dict = {\n",
    "            tf_train_dataset : batch_data, \n",
    "            tf_train_labels : batch_labels\n",
    "        }\n",
    "        _, l, predictions = session.run(\n",
    "           [\n",
    "               optimizer, \n",
    "               loss, \n",
    "               train_prediction\n",
    "           ], \n",
    "           feed_dict=feed_dict)\n",
    "        if (step % 500 == 0):\n",
    "            print(\"Minibatch loss at step %d: %f\" % (step, l))\n",
    "            print(\"Minibatch accuracy: %.1f%%\" % accuracy(predictions, batch_labels))\n",
    "            print(\"Validation accuracy: %.1f%%\" % accuracy(valid_prediction.eval(), valid_labels))\n",
    "        \n",
    "\n",
    "    for step in range(num_steps):\n",
    "        _run_step(step)\n",
    "    print(\"Test accuracy: %.1f%%\" % accuracy(test_prediction.eval(), test_labels))\n",
    "        \n",
    "\n",
    "def run_model(\n",
    "       train_dataset,\n",
    "       train_labels,\n",
    "\n",
    "       valid_dataset,\n",
    "       valid_labels,\n",
    "    \n",
    "       test_dataset,\n",
    "       test_labels,\n",
    "    \n",
    "       train_model_func,\n",
    "       prepare_model_params_func\n",
    "    ):\n",
    "    \"\"\"\n",
    "    Define & Run tf model\n",
    "    \"\"\"\n",
    "    num_labels = train_labels.shape[1]\n",
    "\n",
    "    tf.reset_default_graph()\n",
    "    graph = tf.Graph()\n",
    "    with graph.as_default():\n",
    "        tf_train_dataset = tf.placeholder(\n",
    "            tf.float32,\n",
    "            shape=(TRAIN_BATCH_SIZE, train_dataset.shape[1]))\n",
    "        tf_train_labels = tf.placeholder(tf.float32, shape=(TRAIN_BATCH_SIZE, num_labels))\n",
    "        tf_valid_dataset = tf.constant(valid_dataset)\n",
    "        tf_test_dataset = tf.constant(test_dataset) \n",
    "        \n",
    "        (\n",
    "            optimizer,\n",
    "            loss,\n",
    "            train_prediction,\n",
    "            valid_prediction,\n",
    "            test_prediction\n",
    "        ) = create_graph(\n",
    "            tf_train_dataset,\n",
    "            tf_train_labels,\n",
    "            tf_valid_dataset,\n",
    "            tf_test_dataset,\n",
    "            train_model_func,\n",
    "            prepare_model_params_func\n",
    "        )\n",
    "    with tf.Session(graph=graph) as session:\n",
    "        tf.global_variables_initializer().run()\n",
    "        execute_session(\n",
    "            session,\n",
    "            NUM_OF_STEPS,\n",
    "            TRAIN_BATCH_SIZE,\n",
    "    \n",
    "            optimizer,\n",
    "            loss,\n",
    "            train_prediction,\n",
    "            valid_prediction,\n",
    "            test_prediction,\n",
    "    \n",
    "            train_labels,\n",
    "            valid_labels,\n",
    "            test_labels,\n",
    "    \n",
    "            tf_train_dataset,\n",
    "            tf_train_labels)\n",
    "        \n",
    "        \n",
    "# Run logistic regression model\n",
    "print('\\n\\nRunning logistic regression')\n",
    "run_model(\n",
    "    train_dataset,\n",
    "    train_labels,\n",
    "\n",
    "    valid_dataset,\n",
    "    valid_labels,\n",
    "    \n",
    "    test_dataset,\n",
    "    test_labels,\n",
    "\n",
    "    train_logistic_model,\n",
    "    prepare_params_for_logistic_model)  \n",
    "\n",
    "# Run nn model\n",
    "print('\\n\\nRunning nn model')\n",
    "run_model(\n",
    "    train_dataset,\n",
    "    train_labels,\n",
    "\n",
    "    valid_dataset,\n",
    "    valid_labels,\n",
    "    \n",
    "    test_dataset,\n",
    "    test_labels,\n",
    "\n",
    "    train_nn_model,\n",
    "    prepare_params_for_nn_model)\n"
   ]
  },
  {
   "cell_type": "markdown",
   "metadata": {
    "colab_type": "text",
    "id": "na8xX2yHZzNF"
   },
   "source": [
    "---\n",
    "Problem 2\n",
    "---------\n",
    "Let's demonstrate an extreme case of overfitting. Restrict your training data to just a few batches. What happens?\n",
    "\n",
    "---"
   ]
  },
  {
   "cell_type": "markdown",
   "metadata": {
    "colab_type": "text",
    "id": "ww3SCBUdlkRc"
   },
   "source": [
    "---\n",
    "Problem 3\n",
    "---------\n",
    "Introduce Dropout on the hidden layer of the neural network. Remember: Dropout should only be introduced during training, not evaluation, otherwise your evaluation results would be stochastic as well. TensorFlow provides `nn.dropout()` for that, but you have to make sure it's only inserted during training.\n",
    "\n",
    "What happens to our extreme overfitting case?\n",
    "\n",
    "---"
   ]
  },
  {
   "cell_type": "markdown",
   "metadata": {
    "colab_type": "text",
    "id": "-b1hTz3VWZjw"
   },
   "source": [
    "---\n",
    "Problem 4\n",
    "---------\n",
    "\n",
    "Try to get the best performance you can using a multi-layer model! The best reported test accuracy using a deep network is [97.1%](http://yaroslavvb.blogspot.com/2011/09/notmnist-dataset.html?showComment=1391023266211#c8758720086795711595).\n",
    "\n",
    "One avenue you can explore is to add multiple layers.\n",
    "\n",
    "Another one is to use learning rate decay:\n",
    "\n",
    "    global_step = tf.Variable(0)  # count the number of steps taken.\n",
    "    learning_rate = tf.train.exponential_decay(0.5, global_step, ...)\n",
    "    optimizer = tf.train.GradientDescentOptimizer(learning_rate).minimize(loss, global_step=global_step)\n",
    " \n",
    " ---\n"
   ]
  }
 ],
 "metadata": {
  "colab": {
   "default_view": {},
   "name": "3_regularization.ipynb",
   "provenance": [],
   "version": "0.3.2",
   "views": {}
  },
  "kernelspec": {
   "display_name": "Python 2",
   "language": "python",
   "name": "python2"
  },
  "language_info": {
   "codemirror_mode": {
    "name": "ipython",
    "version": 2
   },
   "file_extension": ".py",
   "mimetype": "text/x-python",
   "name": "python",
   "nbconvert_exporter": "python",
   "pygments_lexer": "ipython2",
   "version": "2.7.10"
  },
  "widgets": {
   "state": {},
   "version": "1.1.2"
  }
 },
 "nbformat": 4,
 "nbformat_minor": 0
}
